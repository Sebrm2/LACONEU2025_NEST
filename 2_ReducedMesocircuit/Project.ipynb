{
 "cells": [
  {
   "cell_type": "code",
   "execution_count": 1,
   "id": "da5822b6-9f59-4589-ba7f-c144ae2fc1b1",
   "metadata": {},
   "outputs": [
    {
     "name": "stdout",
     "output_type": "stream",
     "text": [
      "Requirement already satisfied: parameters in /opt/app-root/src/.local/lib/python3.8/site-packages (0.2.1)\n",
      "\u001b[33mWARNING: You are using pip version 20.0.2; however, version 24.3.1 is available.\n",
      "You should consider upgrading via the '/opt/conda/bin/python3.8 -m pip install --upgrade pip' command.\u001b[0m\n"
     ]
    }
   ],
   "source": [
    "!pip install parameters"
   ]
  },
  {
   "cell_type": "code",
   "execution_count": 1,
   "id": "97a7467c-ba27-454a-998a-37628f1c440b",
   "metadata": {},
   "outputs": [
    {
     "name": "stdout",
     "output_type": "stream",
     "text": [
      "\n",
      "              -- N E S T --\n",
      "  Copyright (C) 2004 The NEST Initiative\n",
      "\n",
      " Version: 3.7.0\n",
      " Built: May 19 2024 15:53:53\n",
      "\n",
      " This program is provided AS IS and comes with\n",
      " NO WARRANTY. See the file LICENSE for details.\n",
      "\n",
      " Problems or suggestions?\n",
      "   Visit https://www.nest-simulator.org\n",
      "\n",
      " Type 'nest.help()' to find out more about NEST.\n",
      "\n"
     ]
    }
   ],
   "source": [
    "%matplotlib inline\n",
    "import matplotlib.pyplot as plt\n",
    "import os\n",
    "import numpy as np\n",
    "import pickle\n",
    "import nest\n",
    "nest.set_verbosity('M_ERROR')"
   ]
  },
  {
   "cell_type": "code",
   "execution_count": 2,
   "id": "5ed77666-3564-41fc-84ee-3430718a2347",
   "metadata": {},
   "outputs": [],
   "source": [
    "net_dict_filename = 'network_parameters.pkl'\n",
    "with open(net_dict_filename, 'rb') as f:\n",
    "    net_dict = pickle.load(f)"
   ]
  },
  {
   "cell_type": "code",
   "execution_count": null,
   "id": "9eeb9f81-c5ac-4780-9996-90a5d145bf22",
   "metadata": {},
   "outputs": [],
   "source": [
    "#L2/3E, L2/3I, L4E, L4I, L5E, L5I, L6E, L6I, TC"
   ]
  },
  {
   "cell_type": "code",
   "execution_count": 4,
   "id": "6446ecee-9e6a-4560-a11b-9aac1a15a207",
   "metadata": {},
   "outputs": [
    {
     "data": {
      "text/plain": [
       "array([ 758176,  213856, 1126192,  281552,  331840,   72864,  317424,\n",
       "         65008,   14432])"
      ]
     },
     "execution_count": 4,
     "metadata": {},
     "output_type": "execute_result"
    }
   ],
   "source": [
    "net_dict['num_neurons']"
   ]
  },
  {
   "cell_type": "code",
   "execution_count": null,
   "id": "e2ac2bb6-15d5-4d38-9868-c5441f7c8501",
   "metadata": {},
   "outputs": [],
   "source": [
    "#L2E: 80\n",
    "#L2I: 10\n",
    "#L3E: 80\n",
    "#L3I: 10\n",
    "#L4E: 120\n",
    "#L4I: 28\n",
    "#L5E: 60\n",
    "#L5I: 20\n",
    "#L6E: 90\n",
    "#L6I: 20"
   ]
  },
  {
   "cell_type": "code",
   "execution_count": 7,
   "id": "8f431fc9-f121-4867-94e2-dc990be91bd7",
   "metadata": {},
   "outputs": [
    {
     "data": {
      "text/plain": [
       "(758, 214, 758, 214, 1126, 282, 332, 73, 317, 65)"
      ]
     },
     "execution_count": 7,
     "metadata": {},
     "output_type": "execute_result"
    }
   ],
   "source": [
    "N_scaling = 0.001 #for 1mm^3\n",
    "\n",
    "N_L2E = np.round(net_dict['num_neurons'][0] * N_scaling).astype(int)\n",
    "N_L2I = np.round(net_dict['num_neurons'][1] * N_scaling).astype(int)\n",
    "N_L3E = np.round(net_dict['num_neurons'][0] * N_scaling).astype(int)\n",
    "N_L3I = np.round(net_dict['num_neurons'][1] * N_scaling).astype(int)\n",
    "N_L4E = np.round(net_dict['num_neurons'][2] * N_scaling).astype(int)\n",
    "N_L4I = np.round(net_dict['num_neurons'][3] * N_scaling).astype(int)\n",
    "N_L5E = np.round(net_dict['num_neurons'][4] * N_scaling).astype(int)\n",
    "N_L5I = np.round(net_dict['num_neurons'][5] * N_scaling).astype(int)\n",
    "N_L6E = np.round(net_dict['num_neurons'][6] * N_scaling).astype(int)\n",
    "N_L6I = np.round(net_dict['num_neurons'][7] * N_scaling).astype(int)\n",
    "\n",
    "N_L2E, N_L2I, N_L3E, N_L3I, N_L4E, N_L4I, N_L5E, N_L5I, N_L6E, N_L6I"
   ]
  },
  {
   "cell_type": "code",
   "execution_count": 8,
   "id": "c33e33dd-7aac-4f71-b7d9-976d8aedc49b",
   "metadata": {},
   "outputs": [
    {
     "data": {
      "text/plain": [
       "4.0"
      ]
     },
     "execution_count": 8,
     "metadata": {},
     "output_type": "execute_result"
    }
   ],
   "source": [
    "extent = net_dict['extent']\n",
    "\n",
    "extent"
   ]
  },
  {
   "cell_type": "code",
   "execution_count": 10,
   "id": "e9c24b46-62c2-46a8-af3f-4f389557fe23",
   "metadata": {},
   "outputs": [],
   "source": [
    "neuron_params = {\n",
    "    # membrane capacitance (in pF)\n",
    "    'C_m': 250.0,\n",
    "    # membrane time constant (in ms)\n",
    "    'tau_m': 10.0,    \n",
    "    # resistive leak reversal potential (in mV)\n",
    "    'E_L': -65.0,\n",
    "    # spike detection threshold (in mV)\n",
    "    'V_th': -50.0,\n",
    "    # spike reset potential (in mV)\n",
    "    'V_reset': -65.0,\n",
    "    # refractory period after spikes (in ms)\n",
    "    't_ref': 2.0,\n",
    "    # time constants of postsynaptic currents (in ms)\n",
    "    'tau_syn_ex': 2.0,\n",
    "    'tau_syn_in': 8.0}"
   ]
  },
  {
   "cell_type": "code",
   "execution_count": 9,
   "id": "61b188db-b999-4a46-9a2e-f9b262f766ea",
   "metadata": {},
   "outputs": [],
   "source": [
    "net_left_cortex = net_dict\n",
    "net_right_cortex = net_dict"
   ]
  },
  {
   "cell_type": "code",
   "execution_count": 13,
   "id": "eb90b5eb-f857-467b-862d-cfc151d5298d",
   "metadata": {},
   "outputs": [],
   "source": [
    "#net_left_cortex['indegrees']\n",
    "#beta_L6I_L6E = net_left_cortex['beta'][6, 7] # L6I -> L6E\n",
    "#net_left_cortex['weight_matrix_mean']\n",
    "#delay_offset = net_left_cortex['delay_offset_exc_inh'][0]\n",
    "#prop_speed = net_left_cortex['prop_speed_exc_inh'][0]\n",
    "#bg_rate = net_left_cortex['bg_rate']\n",
    "delay_poisson = 1.0"
   ]
  },
  {
   "cell_type": "code",
   "execution_count": 15,
   "id": "bc1e0195-7b1c-4886-8dd2-a8b5ef6e358d",
   "metadata": {},
   "outputs": [],
   "source": [
    "use_thalamic_pulse = True #the thalamus only sends to layer 4,5,6\n",
    "th_radius = 0.5\n",
    "th_delay = 1.0\n",
    "th_weight = 500 * 1 #gotta change this weight\n",
    "th_rate = 100.\n",
    "th_start = 500.\n",
    "th_stop = 550."
   ]
  },
  {
   "cell_type": "code",
   "execution_count": 16,
   "id": "e92bc513-d73b-46dc-9c38-c4827167088b",
   "metadata": {},
   "outputs": [],
   "source": [
    "nest.ResetKernel()\n",
    "nest.rng_seed = 42\n",
    "nest.resolution = 0.1\n",
    "nest.local_num_threads = os.cpu_count()"
   ]
  },
  {
   "cell_type": "code",
   "execution_count": 17,
   "id": "c600d1dd-bb81-447c-8a0a-7aeaa8ada215",
   "metadata": {},
   "outputs": [],
   "source": [
    "positions = nest.spatial.free(\n",
    "    pos=nest.random.uniform(min=-extent / 2.,\n",
    "                            max=extent / 2.),\n",
    "    edge_wrap=True,\n",
    "    extent=[extent, extent])"
   ]
  },
  {
   "cell_type": "code",
   "execution_count": null,
   "id": "51efb646-44f5-46dd-a5ef-7aa5f41d9ebd",
   "metadata": {},
   "outputs": [],
   "source": []
  }
 ],
 "metadata": {
  "kernelspec": {
   "display_name": "EBRAINS-24.04",
   "language": "python",
   "name": "ebrains-24.04"
  },
  "language_info": {
   "codemirror_mode": {
    "name": "ipython",
    "version": 3
   },
   "file_extension": ".py",
   "mimetype": "text/x-python",
   "name": "python",
   "nbconvert_exporter": "python",
   "pygments_lexer": "ipython3",
   "version": "3.8.11"
  }
 },
 "nbformat": 4,
 "nbformat_minor": 5
}
